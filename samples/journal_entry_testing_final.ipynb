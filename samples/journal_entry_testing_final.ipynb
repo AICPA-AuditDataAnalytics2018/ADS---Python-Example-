{
 "cells": [
  {
   "cell_type": "markdown",
   "metadata": {},
   "source": [
    "# Automated Audit Procedures based on Audit Data Standards \n",
    "This is a jupyter notebook, running Python 3.6.\n",
    "Our aim is to provide an example of Audit Data Standards uses in Audit Engagements"
   ]
  },
  {
   "cell_type": "markdown",
   "metadata": {},
   "source": [
    "#### Load libraries"
   ]
  },
  {
   "cell_type": "code",
   "execution_count": 12,
   "metadata": {},
   "outputs": [],
   "source": [
    "import pandas as pd\n",
    "import numpy as np"
   ]
  },
  {
   "cell_type": "markdown",
   "metadata": {},
   "source": [
    "#### Set Number Format"
   ]
  },
  {
   "cell_type": "code",
   "execution_count": 15,
   "metadata": {},
   "outputs": [],
   "source": [
    "pd.options.display.float_format = '{:,.2f}'.format"
   ]
  },
  {
   "cell_type": "markdown",
   "metadata": {},
   "source": [
    "# Load the files to dataframes "
   ]
  },
  {
   "cell_type": "code",
   "execution_count": null,
   "metadata": {},
   "outputs": [],
   "source": [
    "GL_Detail_20070101_200701231 = pd.read_csv('data/GL_Detail_YYYYMMDD_YYYYMMDD.csv')\n",
    "Log_File_20070101_200701231 = pd.read_csv('data/log_file.csv')"
   ]
  },
  {
   "cell_type": "code",
   "execution_count": 8,
   "metadata": {},
   "outputs": [
    {
     "output_type": "execute_result",
     "data": {
      "text/plain": [
       "   Journal_ID Amount_Credit_Debit_Indicator    Total  Entered_Date  \\\n",
       "0   100000000                             H 9,770.52      20070122   \n",
       "1   100000000                             S 9,770.52      20070122   \n",
       "2   100000001                             H 5,875.20      20070122   \n",
       "3   100000001                             S 5,875.20      20070122   \n",
       "4   100000002                             H   244.80      20070122   \n",
       "\n",
       "   Entered_Time  \n",
       "0        101205  \n",
       "1        101205  \n",
       "2        101206  \n",
       "3        101206  \n",
       "4        101206  "
      ],
      "text/html": "<div>\n<style scoped>\n    .dataframe tbody tr th:only-of-type {\n        vertical-align: middle;\n    }\n\n    .dataframe tbody tr th {\n        vertical-align: top;\n    }\n\n    .dataframe thead th {\n        text-align: right;\n    }\n</style>\n<table border=\"1\" class=\"dataframe\">\n  <thead>\n    <tr style=\"text-align: right;\">\n      <th></th>\n      <th>Journal_ID</th>\n      <th>Amount_Credit_Debit_Indicator</th>\n      <th>Total</th>\n      <th>Entered_Date</th>\n      <th>Entered_Time</th>\n    </tr>\n  </thead>\n  <tbody>\n    <tr>\n      <th>0</th>\n      <td>100000000</td>\n      <td>H</td>\n      <td>9,770.52</td>\n      <td>20070122</td>\n      <td>101205</td>\n    </tr>\n    <tr>\n      <th>1</th>\n      <td>100000000</td>\n      <td>S</td>\n      <td>9,770.52</td>\n      <td>20070122</td>\n      <td>101205</td>\n    </tr>\n    <tr>\n      <th>2</th>\n      <td>100000001</td>\n      <td>H</td>\n      <td>5,875.20</td>\n      <td>20070122</td>\n      <td>101206</td>\n    </tr>\n    <tr>\n      <th>3</th>\n      <td>100000001</td>\n      <td>S</td>\n      <td>5,875.20</td>\n      <td>20070122</td>\n      <td>101206</td>\n    </tr>\n    <tr>\n      <th>4</th>\n      <td>100000002</td>\n      <td>H</td>\n      <td>244.80</td>\n      <td>20070122</td>\n      <td>101206</td>\n    </tr>\n  </tbody>\n</table>\n</div>"
     },
     "metadata": {},
     "execution_count": 8
    }
   ],
   "source": [
    "Log_File_20070101_200701231.head()"
   ]
  },
  {
   "cell_type": "code",
   "execution_count": 10,
   "metadata": {
    "slideshow": {
     "slide_type": "subslide"
    }
   },
   "outputs": [],
   "source": [
    "GL_Detail_20070101_200701231['Net'] = GL_Detail_20070101_200701231.apply(lambda x: x['Amount'] * -1\n",
    "                           if x['Amount_Credit_Debit_Indicator'] == 'H'\n",
    "                          else (x['Amount']),\n",
    "                          axis=1)"
   ]
  },
  {
   "cell_type": "markdown",
   "metadata": {},
   "source": [
    "# Import Test 1 Procedures"
   ]
  },
  {
   "cell_type": "code",
   "execution_count": 13,
   "metadata": {},
   "outputs": [],
   "source": [
    "from Test_Procedures import Test_1_Procedures"
   ]
  },
  {
   "cell_type": "markdown",
   "metadata": {},
   "source": [
    "# Run Test 1 Procedures"
   ]
  },
  {
   "cell_type": "code",
   "execution_count": 16,
   "metadata": {},
   "outputs": [
    {
     "output_type": "stream",
     "name": "stdout",
     "text": [
      "check_for_gaps_in_JE_ID is now started\n12 instances detected\nResults saved at Test_3_1_1_check_for_gaps_in_JE_ID.csv\n"
     ]
    },
    {
     "output_type": "execute_result",
     "data": {
      "text/plain": [
       "12"
      ]
     },
     "metadata": {},
     "execution_count": 16
    }
   ],
   "source": [
    "first_tester = Test_1_Procedures(GL_Detail_20070101_200701231, Log_File_20070101_200701231)\n",
    "first_tester.check_for_gaps_in_JE_ID()"
   ]
  },
  {
   "cell_type": "code",
   "execution_count": 21,
   "metadata": {},
   "outputs": [
    {
     "output_type": "stream",
     "name": "stdout",
     "text": [
      "comparison_of_entries_of_GL_and_log_file is now started\n0 instances detected\nResults saved at Test_3_1_2_Comparison_of_Entries_of_GL_and_Log_File.csv\n"
     ]
    },
    {
     "output_type": "execute_result",
     "data": {
      "text/plain": [
       "0"
      ]
     },
     "metadata": {},
     "execution_count": 21
    }
   ],
   "source": [
    "first_tester.comparison_of_entries_of_GL_and_log_file()"
   ]
  },
  {
   "cell_type": "markdown",
   "metadata": {},
   "source": [
    "# Import Test 2 Procedures"
   ]
  },
  {
   "cell_type": "code",
   "execution_count": null,
   "metadata": {},
   "outputs": [],
   "source": [
    "from Test_Procedures import Test_2_Procedures"
   ]
  },
  {
   "cell_type": "markdown",
   "metadata": {},
   "source": [
    "# Run Test 2 Procedures"
   ]
  },
  {
   "cell_type": "code",
   "execution_count": 11,
   "metadata": {},
   "outputs": [
    {
     "name": "stdout",
     "output_type": "stream",
     "text": [
      "Checking for Incomplete Entries is started\n",
      "4 instances detected\n",
      "Results saved at Output_Folder/Test_3_2_1_check_for_incomplete_entries.csv\n"
     ]
    }
   ],
   "source": [
    "Test_2_Procedures.check_for_incomplete_entries(GL_Detail_20070101_200701231)"
   ]
  },
  {
   "cell_type": "code",
   "execution_count": 12,
   "metadata": {},
   "outputs": [
    {
     "name": "stdout",
     "output_type": "stream",
     "text": [
      "Checking for Duplicate Entries is started\n",
      "6919 instances detected\n",
      "Results saved at Output_Folder/Test_3_2_2_check_for_duplicate_entries.csv\n"
     ]
    }
   ],
   "source": [
    "Test_2_Procedures.check_for_duplicate_entries(GL_Detail_20070101_200701231)"
   ]
  },
  {
   "cell_type": "code",
   "execution_count": 13,
   "metadata": {},
   "outputs": [
    {
     "name": "stdout",
     "output_type": "stream",
     "text": [
      "Checking for Round Dollar Entries is started\n",
      "226 instances detected\n",
      "Results saved at Output_Folder/Test_3_2_3_check_for_round_dollar_entries.csv\n"
     ]
    }
   ],
   "source": [
    "Test_2_Procedures.check_for_round_dollar_entries(GL_Detail_20070101_200701231)"
   ]
  },
  {
   "cell_type": "code",
   "execution_count": 28,
   "metadata": {},
   "outputs": [
    {
     "name": "stdout",
     "output_type": "stream",
     "text": [
      "Checking for Post Date Entries is started\n",
      "149 instances detected\n",
      "Results saved at Output_Folder/Test_3_2_4_check_for_post_date_entries.csv\n"
     ]
    }
   ],
   "source": [
    "Test_2_Procedures.check_for_post_date_entries(GL_Detail_20070101_200701231)"
   ]
  },
  {
   "cell_type": "code",
   "execution_count": 29,
   "metadata": {},
   "outputs": [
    {
     "name": "stdout",
     "output_type": "stream",
     "text": [
      "Checking for Weekend Entries is started\n",
      "0 instances detected\n",
      "Results saved at Output_Folder/Test_3_2_5.1_check_for_weekend_entries.csv\n"
     ]
    }
   ],
   "source": [
    "Test_2_Procedures.check_for_weekend_entries(GL_Detail_20070101_200701231)"
   ]
  },
  {
   "cell_type": "code",
   "execution_count": 30,
   "metadata": {},
   "outputs": [
    {
     "name": "stdout",
     "output_type": "stream",
     "text": [
      "Checking for Night Entries is started\n",
      "190 instances detected\n",
      "Results saved at Output_Folder/Test_3_2_5.2_check_for_nights_entries.csv\n"
     ]
    }
   ],
   "source": [
    "Test_2_Procedures.check_for_nights_entries(GL_Detail_20070101_200701231)"
   ]
  },
  {
   "cell_type": "code",
   "execution_count": 17,
   "metadata": {},
   "outputs": [
    {
     "name": "stdout",
     "output_type": "stream",
     "text": [
      "Checking for Rare Users is started\n",
      "52 instances detected\n",
      "Results saved at Output_Folder/Test_3_2_6.1_check_for_rare_users.csv\n"
     ]
    }
   ],
   "source": [
    "Test_2_Procedures.check_for_rare_users(GL_Detail_20070101_200701231)"
   ]
  },
  {
   "cell_type": "code",
   "execution_count": 18,
   "metadata": {},
   "outputs": [
    {
     "name": "stdout",
     "output_type": "stream",
     "text": [
      "Checking for Rare Accounts is started\n",
      "32 instances detected\n",
      "Results saved at Output_Folder/Test_3_2_6.2_check_for_rare_accounts.csv\n"
     ]
    }
   ],
   "source": [
    "Test_2_Procedures.check_for_rare_accounts(GL_Detail_20070101_200701231)"
   ]
  },
  {
   "cell_type": "code",
   "execution_count": 27,
   "metadata": {},
   "outputs": [],
   "source": [
    "!start ."
   ]
  },
  {
   "cell_type": "code",
   "execution_count": null,
   "metadata": {},
   "outputs": [],
   "source": []
  }
 ],
 "metadata": {
  "kernelspec": {
   "display_name": "Python 3.8.5 64-bit ('venv': venv)",
   "language": "python",
   "name": "python385jvsc74a57bd0e05b5a7c51a49927f4a46b496f45b922e1e4497c2b769e887a16580e2cea8557"
  },
  "language_info": {
   "codemirror_mode": {
    "name": "ipython",
    "version": 3
   },
   "file_extension": ".py",
   "mimetype": "text/x-python",
   "name": "python",
   "nbconvert_exporter": "python",
   "pygments_lexer": "ipython3",
   "version": "3.8.5"
  }
 },
 "nbformat": 4,
 "nbformat_minor": 2
}