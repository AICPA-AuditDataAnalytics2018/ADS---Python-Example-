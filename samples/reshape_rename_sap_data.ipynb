{
 "cells": [
  {
   "cell_type": "markdown",
   "metadata": {},
   "source": [
    "# This is a jupyter notebook, running Python 3.6. \n",
    "We will use this notebook to import GL / TB demo data, perform some reconciliations, and then perform a few audit procedures."
   ]
  },
  {
   "cell_type": "markdown",
   "metadata": {},
   "source": [
    "## Load libraries"
   ]
  },
  {
   "cell_type": "code",
   "execution_count": 1,
   "metadata": {},
   "outputs": [],
   "source": [
    "import pandas as pd"
   ]
  },
  {
   "cell_type": "code",
   "execution_count": 2,
   "metadata": {},
   "outputs": [],
   "source": [
    "pd.options.display.float_format = '{:,.2f}'.format"
   ]
  },
  {
   "cell_type": "markdown",
   "metadata": {},
   "source": [
    "## Location of gl and tb files"
   ]
  },
  {
   "cell_type": "code",
   "execution_count": 3,
   "metadata": {},
   "outputs": [],
   "source": [
    "tb = 'data/GLT0_0001_GL account master record transaction figures.xlsx'"
   ]
  },
  {
   "cell_type": "code",
   "execution_count": 4,
   "metadata": {},
   "outputs": [],
   "source": [
    "gl = 'data/BSEG_0001_Accounting Document Segment.xlsx'"
   ]
  },
  {
   "cell_type": "markdown",
   "metadata": {},
   "source": [
    "## Pull TB data into Dataframe"
   ]
  },
  {
   "cell_type": "code",
   "execution_count": 5,
   "metadata": {},
   "outputs": [],
   "source": [
    "tb_df = pd.read_excel(tb, sheet_name=0)"
   ]
  },
  {
   "cell_type": "markdown",
   "metadata": {},
   "source": [
    "### See what the first five records look like"
   ]
  },
  {
   "cell_type": "code",
   "execution_count": null,
   "metadata": {
    "scrolled": true
   },
   "outputs": [],
   "source": [
    "tb_df.head()"
   ]
  },
  {
   "cell_type": "markdown",
   "metadata": {},
   "source": [
    "## Reshape the data to unpivot periods from columns to rows"
   ]
  },
  {
   "cell_type": "code",
   "execution_count": null,
   "metadata": {},
   "outputs": [],
   "source": [
    "tb_column_renames = {\n",
    "    'RACCT (Account Number)': 'GL_Account_Number',\n",
    "    'RBUSA (Business Area)': 'Business_Unit_Code',\n",
    "    'RYEAR (Fiscal Year)': 'Fiscal_Year',\n",
    "    'RLDNR (Ledger)': 'Ledger'\n",
    "}"
   ]
  },
  {
   "cell_type": "code",
   "execution_count": null,
   "metadata": {},
   "outputs": [],
   "source": [
    "tb_df_melt = tb_df.melt(id_vars=tb_column_renames.keys(),\n",
    "    value_vars=['TSL01 (Total transactions of the period in transaction currency)',\n",
    "       'TSL02 (Total transactions of the period in transaction currency)',\n",
    "       'TSL03 (Total transactions of the period in transaction currency)',\n",
    "       'TSL04 (Total transactions of the period in transaction currency)',\n",
    "       'TSL05 (Total transactions of the period in transaction currency)',\n",
    "       'TSL06 (Total transactions of the period in transaction currency)',\n",
    "       'TSL07 (Total transactions of the period in transaction currency)',\n",
    "       'TSL08 (Total transactions of the period in transaction currency)',\n",
    "       'TSL09 (Total transactions of the period in transaction currency)',\n",
    "       'TSL10 (Total transactions of the period in transaction currency)',\n",
    "       'TSL11 (Total transactions of the period in transaction currency)',\n",
    "       'TSL12 (Total transactions of the period in transaction currency)'],\n",
    "       var_name='Period', \n",
    "       value_name='Balance_As_Of_Date')"
   ]
  },
  {
   "cell_type": "markdown",
   "metadata": {},
   "source": [
    "## Rename the period fields"
   ]
  },
  {
   "cell_type": "code",
   "execution_count": null,
   "metadata": {},
   "outputs": [],
   "source": [
    "tb_df_melt['Period'] = tb_df_melt['Period'].map(lambda x: x[3:5])"
   ]
  },
  {
   "cell_type": "code",
   "execution_count": null,
   "metadata": {},
   "outputs": [],
   "source": [
    "tb_df_melt = tb_df_melt.rename(columns=tb_column_renames)"
   ]
  },
  {
   "cell_type": "code",
   "execution_count": null,
   "metadata": {},
   "outputs": [],
   "source": [
    "tb_df_melt.head()"
   ]
  },
  {
   "cell_type": "code",
   "execution_count": null,
   "metadata": {},
   "outputs": [],
   "source": [
    "# Save file for import example\n",
    "tb_df_melt.to_csv('data/Trial_Balance_YYYYMMDD_YYYYMMDD.csv', index=False)"
   ]
  },
  {
   "cell_type": "markdown",
   "metadata": {},
   "source": [
    "# Pull data from gl into Dataframe"
   ]
  },
  {
   "cell_type": "code",
   "execution_count": null,
   "metadata": {},
   "outputs": [],
   "source": [
    "gl_df = pd.read_excel(gl, sheet_name=0)"
   ]
  },
  {
   "cell_type": "code",
   "execution_count": null,
   "metadata": {},
   "outputs": [],
   "source": [
    "#gl_df = gl_df[['BELNR (Accounting Document Number)', 'BUZEI (Number of Line Item Within Accounting Document)', \n",
    "#               'SGTXT (Item Text)', 'GSBER (Business Area)', 'AUGDT (Clearing Date)','GJAHR (Fiscal Year)',\n",
    "#              'HKONT (General Ledger Account)', 'PSWBT (Amount for Updating in General Ledger)',\n",
    "#              'SHKZG (Debit/Credit Indicator)', 'PSWSL (Update Currency for General Ledger Transaction Figures)']]"
   ]
  },
  {
   "cell_type": "code",
   "execution_count": null,
   "metadata": {},
   "outputs": [],
   "source": [
    "gl_df.head()"
   ]
  },
  {
   "cell_type": "code",
   "execution_count": null,
   "metadata": {},
   "outputs": [],
   "source": [
    "gl_column_rename_bseg = {\n",
    "    'BELNR (Accounting Document Number)': 'Journal_ID',\n",
    "    'BUZEI (Number of Line Item Within Accounting Document)': 'Journal_ID_Line_Number',\n",
    "    'SGTXT (Item Text)': 'JE_Line_Description',\n",
    "    'GSBER (Business Area)': 'Business_Unit_Code',\n",
    "    'AUGDT (Clearing Date)': 'Effective_Date',\n",
    "    'GJAHR (Fiscal Year)': 'Fiscal_Year',\n",
    "    'HKONT (General Ledger Account)': 'GL_Account_Number',\n",
    "    'PSWBT (Amount for Updating in General Ledger)': 'Amount',\n",
    "    'SHKZG (Debit/Credit Indicator)': 'Amount_Credit_Debit_Indicator',\n",
    "    'PSWSL (Update Currency for General Ledger Transaction Figures)': 'Amount_Currency'\n",
    "\n",
    "}\n",
    "\n",
    "gl_column_rename_bkpf = {\n",
    "    'BKTXT (Document Header Text)': 'JE_Header_ Description',\n",
    "    'BLART (Document Type)': 'Source',\n",
    "    'USNAM (User name)': 'Entered_By',\n",
    "    'BLDAT (Document Date in Document)' : 'Document_Date', \n",
    "    'CPUDT (Day On Which Accounting Document Was Entered)': 'Entered_Date',\n",
    "    'CPUTM (Time of Entry)': 'Entered_Time',\n",
    "    'BELNR (Accounting Document Number)': 'Journal_ID',\n",
    "    'MONAT (Fiscal Period)': 'Period'\n",
    "}"
   ]
  },
  {
   "cell_type": "code",
   "execution_count": null,
   "metadata": {},
   "outputs": [],
   "source": [
    "# gl_df['Net'] = gl_df.apply(lambda x: x['PSWBT (Amount for Updating in General Ledger)']\n",
    "#                            if x['SHKZG (Debit/Credit Indicator)'] == 'H'\n",
    "#                           else (x['PSWBT (Amount for Updating in General Ledger)'] * -1),\n",
    "#                           axis=1)"
   ]
  },
  {
   "cell_type": "code",
   "execution_count": null,
   "metadata": {},
   "outputs": [],
   "source": [
    "gl_df = gl_df.rename(columns=gl_column_rename_bseg)"
   ]
  },
  {
   "cell_type": "code",
   "execution_count": null,
   "metadata": {},
   "outputs": [],
   "source": [
    "cols = list(gl_column_rename_bseg.values())\n",
    "gl_df_renamed = gl_df[cols]"
   ]
  },
  {
   "cell_type": "code",
   "execution_count": null,
   "metadata": {},
   "outputs": [],
   "source": [
    "gl_df_renamed.head()"
   ]
  },
  {
   "cell_type": "markdown",
   "metadata": {},
   "source": [
    "## Load file to pull other fields from"
   ]
  },
  {
   "cell_type": "code",
   "execution_count": null,
   "metadata": {},
   "outputs": [],
   "source": [
    "xwalk = 'data/BKPF_0001_Accounting Document Header.TXT'"
   ]
  },
  {
   "cell_type": "code",
   "execution_count": null,
   "metadata": {},
   "outputs": [],
   "source": [
    "xwalk_df = pd.read_csv(xwalk, sep='|', low_memory=False)"
   ]
  },
  {
   "cell_type": "code",
   "execution_count": null,
   "metadata": {},
   "outputs": [],
   "source": [
    "xwalk_df = xwalk_df.rename(columns=gl_column_rename_bkpf)"
   ]
  },
  {
   "cell_type": "code",
   "execution_count": null,
   "metadata": {},
   "outputs": [],
   "source": [
    "cols = list(gl_column_rename_bkpf.values())"
   ]
  },
  {
   "cell_type": "code",
   "execution_count": null,
   "metadata": {},
   "outputs": [],
   "source": [
    "xwalk_final = xwalk_df[cols]"
   ]
  },
  {
   "cell_type": "code",
   "execution_count": null,
   "metadata": {},
   "outputs": [],
   "source": [
    "xwalk_final.head()"
   ]
  },
  {
   "cell_type": "code",
   "execution_count": null,
   "metadata": {},
   "outputs": [],
   "source": [
    "gl_df_final = pd.merge(gl_df_renamed, xwalk_final, on='Journal_ID', how='left')\n",
    "gl_df_final.head()"
   ]
  },
  {
   "cell_type": "code",
   "execution_count": null,
   "metadata": {},
   "outputs": [],
   "source": [
    "# Save the gl to csv\n",
    "gl_df_final.to_csv('data/GL_Detail_YYYYMMDD_YYYYMMDD.csv', index=False)"
   ]
  },
  {
   "cell_type": "code",
   "execution_count": null,
   "metadata": {},
   "outputs": [],
   "source": []
  }
 ],
 "metadata": {
  "kernelspec": {
   "display_name": "Python 3",
   "language": "python",
   "name": "python3"
  },
  "language_info": {
   "codemirror_mode": {
    "name": "ipython",
    "version": 3
   },
   "file_extension": ".py",
   "mimetype": "text/x-python",
   "name": "python",
   "nbconvert_exporter": "python",
   "pygments_lexer": "ipython3",
   "version": "3.6.5"
  }
 },
 "nbformat": 4,
 "nbformat_minor": 2
}
