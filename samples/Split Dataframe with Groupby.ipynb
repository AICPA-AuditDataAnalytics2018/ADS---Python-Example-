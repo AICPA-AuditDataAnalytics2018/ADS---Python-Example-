{
 "cells": [
  {
   "cell_type": "markdown",
   "metadata": {},
   "source": [
    "# Split Dataframe using Panda's Groupby"
   ]
  },
  {
   "cell_type": "markdown",
   "metadata": {},
   "source": [
    "For this tutorial, I will asume you have a basic understanding of Python, and know how to load a dataframe using the Panda's library.\n",
    "I will use the GL_Detail example file from the AICPA's AuditDataAnalytic's GitHub."
   ]
  },
  {
   "cell_type": "code",
   "execution_count": 1,
   "metadata": {},
   "outputs": [],
   "source": [
    "import pandas as pd\n",
    "import numpy as np\n",
    "\n",
    "# Displays numbers with 2 decimals and thousands separators.\n",
    "pd.options.display.float_format = '{:,.2f}'.format "
   ]
  },
  {
   "cell_type": "code",
   "execution_count": 2,
   "metadata": {},
   "outputs": [
    {
     "data": {
      "text/html": [
       "<div>\n",
       "<style scoped>\n",
       "    .dataframe tbody tr th:only-of-type {\n",
       "        vertical-align: middle;\n",
       "    }\n",
       "\n",
       "    .dataframe tbody tr th {\n",
       "        vertical-align: top;\n",
       "    }\n",
       "\n",
       "    .dataframe thead th {\n",
       "        text-align: right;\n",
       "    }\n",
       "</style>\n",
       "<table border=\"1\" class=\"dataframe\">\n",
       "  <thead>\n",
       "    <tr style=\"text-align: right;\">\n",
       "      <th></th>\n",
       "      <th>Journal_ID</th>\n",
       "      <th>Journal_ID_Line_Number</th>\n",
       "      <th>JE_Line_Description</th>\n",
       "      <th>Business_Unit_Code</th>\n",
       "      <th>Effective_Date</th>\n",
       "      <th>Fiscal_Year</th>\n",
       "      <th>GL_Account_Number</th>\n",
       "      <th>Amount</th>\n",
       "      <th>Amount_Credit_Debit_Indicator</th>\n",
       "      <th>Amount_Currency</th>\n",
       "      <th>JE_Header_ Description</th>\n",
       "      <th>Source</th>\n",
       "      <th>Entered_By</th>\n",
       "      <th>Document_Date</th>\n",
       "      <th>Entered_Date</th>\n",
       "      <th>Entered_Time</th>\n",
       "      <th>Period</th>\n",
       "    </tr>\n",
       "  </thead>\n",
       "  <tbody>\n",
       "    <tr>\n",
       "      <th>0</th>\n",
       "      <td>100000000</td>\n",
       "      <td>1</td>\n",
       "      <td>Postkosten ohne Tel.</td>\n",
       "      <td>9900</td>\n",
       "      <td>19000101</td>\n",
       "      <td>2007</td>\n",
       "      <td>473000</td>\n",
       "      <td>9,770.52</td>\n",
       "      <td>S</td>\n",
       "      <td>USD</td>\n",
       "      <td>NaN</td>\n",
       "      <td>SA</td>\n",
       "      <td>STEINER</td>\n",
       "      <td>20070101</td>\n",
       "      <td>20070122</td>\n",
       "      <td>101205</td>\n",
       "      <td>1</td>\n",
       "    </tr>\n",
       "    <tr>\n",
       "      <th>1</th>\n",
       "      <td>100000000</td>\n",
       "      <td>2</td>\n",
       "      <td>NaN</td>\n",
       "      <td>NaN</td>\n",
       "      <td>19000101</td>\n",
       "      <td>2007</td>\n",
       "      <td>113100</td>\n",
       "      <td>9,770.52</td>\n",
       "      <td>H</td>\n",
       "      <td>USD</td>\n",
       "      <td>NaN</td>\n",
       "      <td>SA</td>\n",
       "      <td>STEINER</td>\n",
       "      <td>20070101</td>\n",
       "      <td>20070122</td>\n",
       "      <td>101205</td>\n",
       "      <td>1</td>\n",
       "    </tr>\n",
       "    <tr>\n",
       "      <th>2</th>\n",
       "      <td>100000001</td>\n",
       "      <td>1</td>\n",
       "      <td>Reisekst./Unterkunft</td>\n",
       "      <td>9900</td>\n",
       "      <td>19000101</td>\n",
       "      <td>2007</td>\n",
       "      <td>474210</td>\n",
       "      <td>5,875.20</td>\n",
       "      <td>S</td>\n",
       "      <td>USD</td>\n",
       "      <td>NaN</td>\n",
       "      <td>SA</td>\n",
       "      <td>STEINER</td>\n",
       "      <td>20070101</td>\n",
       "      <td>20070122</td>\n",
       "      <td>101206</td>\n",
       "      <td>1</td>\n",
       "    </tr>\n",
       "    <tr>\n",
       "      <th>3</th>\n",
       "      <td>100000001</td>\n",
       "      <td>2</td>\n",
       "      <td>NaN</td>\n",
       "      <td>NaN</td>\n",
       "      <td>19000101</td>\n",
       "      <td>2007</td>\n",
       "      <td>113100</td>\n",
       "      <td>5,875.20</td>\n",
       "      <td>H</td>\n",
       "      <td>USD</td>\n",
       "      <td>NaN</td>\n",
       "      <td>SA</td>\n",
       "      <td>STEINER</td>\n",
       "      <td>20070101</td>\n",
       "      <td>20070122</td>\n",
       "      <td>101206</td>\n",
       "      <td>1</td>\n",
       "    </tr>\n",
       "    <tr>\n",
       "      <th>4</th>\n",
       "      <td>100000002</td>\n",
       "      <td>1</td>\n",
       "      <td>NaN</td>\n",
       "      <td>9900</td>\n",
       "      <td>19000101</td>\n",
       "      <td>2007</td>\n",
       "      <td>474211</td>\n",
       "      <td>244.80</td>\n",
       "      <td>S</td>\n",
       "      <td>USD</td>\n",
       "      <td>NaN</td>\n",
       "      <td>SA</td>\n",
       "      <td>STEINER</td>\n",
       "      <td>20070101</td>\n",
       "      <td>20070122</td>\n",
       "      <td>101206</td>\n",
       "      <td>1</td>\n",
       "    </tr>\n",
       "  </tbody>\n",
       "</table>\n",
       "</div>"
      ],
      "text/plain": [
       "   Journal_ID  Journal_ID_Line_Number   JE_Line_Description  \\\n",
       "0   100000000                       1  Postkosten ohne Tel.   \n",
       "1   100000000                       2                   NaN   \n",
       "2   100000001                       1  Reisekst./Unterkunft   \n",
       "3   100000001                       2                   NaN   \n",
       "4   100000002                       1                   NaN   \n",
       "\n",
       "  Business_Unit_Code  Effective_Date  Fiscal_Year  GL_Account_Number   Amount  \\\n",
       "0               9900        19000101         2007             473000 9,770.52   \n",
       "1                NaN        19000101         2007             113100 9,770.52   \n",
       "2               9900        19000101         2007             474210 5,875.20   \n",
       "3                NaN        19000101         2007             113100 5,875.20   \n",
       "4               9900        19000101         2007             474211   244.80   \n",
       "\n",
       "  Amount_Credit_Debit_Indicator Amount_Currency JE_Header_ Description Source  \\\n",
       "0                             S             USD                    NaN     SA   \n",
       "1                             H             USD                    NaN     SA   \n",
       "2                             S             USD                    NaN     SA   \n",
       "3                             H             USD                    NaN     SA   \n",
       "4                             S             USD                    NaN     SA   \n",
       "\n",
       "  Entered_By  Document_Date  Entered_Date  Entered_Time  Period  \n",
       "0    STEINER       20070101      20070122        101205       1  \n",
       "1    STEINER       20070101      20070122        101205       1  \n",
       "2    STEINER       20070101      20070122        101206       1  \n",
       "3    STEINER       20070101      20070122        101206       1  \n",
       "4    STEINER       20070101      20070122        101206       1  "
      ]
     },
     "execution_count": 2,
     "metadata": {},
     "output_type": "execute_result"
    }
   ],
   "source": [
    "# Load Dataframe into memory.\n",
    "file_location = \"data/GL_Detail_YYYYMMDD_YYYYMMDD.csv\"\n",
    "df = pd.read_csv(file_location)\n",
    "df.head()"
   ]
  },
  {
   "cell_type": "markdown",
   "metadata": {},
   "source": [
    "<p>This method splits the dataframe into individual dataframes by \"Entered_By Column\". Groupby in Pandas, will group all similar elements. This can replace a pivot table in Excel, and functions similarly to SQL's Groupby. <b>Note</b> if you want to have multiple layers of grouping (i.e. \"Entered_By\", then \"Business_Unit_Code\"), you must use a list of items. This would look like df.groupby([\"Entered_By\", \"Business_Unit_Code\"]).</p>\n",
    "<p>Note how Python allows for \"unpacking\" of elements. In this case <i>split, file</i>. df.groupby returns 2 values for each loop through. It returns the split value (my terminology), which is our \"Entered_By\" code, and the related file. We then use the split value as a key to add the file to our dict of files.</p>"
   ]
  },
  {
   "cell_type": "code",
   "execution_count": 3,
   "metadata": {},
   "outputs": [],
   "source": [
    "files = {}\n",
    "for split, file in df.groupby(\"Entered_By\"):\n",
    "    files[split] = file"
   ]
  },
  {
   "cell_type": "code",
   "execution_count": 4,
   "metadata": {},
   "outputs": [
    {
     "data": {
      "text/plain": [
       "dict_keys(['BRAUNDI', 'D020281', 'D023132', 'D025016', 'D032884', 'D034394', 'D036495', 'D037397', 'D046954', 'D049461', 'DEVENTER', 'FISCHER', 'GENTNERB', 'I034454', 'I036867', 'I040584', 'I040990', 'I800109', 'I807424', 'MARCINKO', 'RAGHAVAN', 'STEINER', 'ZECHA'])"
      ]
     },
     "execution_count": 4,
     "metadata": {},
     "output_type": "execute_result"
    }
   ],
   "source": [
    "files.keys() #shows the users who entered journal entries"
   ]
  },
  {
   "cell_type": "markdown",
   "metadata": {},
   "source": [
    "<p>This is a loop through all of the items in the Python dict \"Files\". When looping through a dict data structure, make sure to add the \".items()\" to the end if you want the dict key and the item. In our case, the key is the filename, and the item is split dataframe.</p> \n",
    "<p>Please note the \"!mkdir\" at the top of the cell. This is to create a new directory for the split files to go in. The mkdir command will only work on Mac/Linux systems. On a Windows OS, you would need the following: <n>import os</n><n>os.mkdir(\"data/split\")</n></p>\n",
    "<p>All Dataframe's have a write method, to write the Dataframe to various mediums. In this case, I'm using csv. You can concatenate strings in Python using the \"+\" operator to build unique file paths for each Dataframe.</p>\n",
    "<p>If you don't need to load the Dataframe's into memory, and only wish to split a file, you could perform this task in one loop. </p>\n",
    "\n",
    "<p>    for filename, file in df.groupby(\"Entered_By\"):\n",
    "        file.to_csv(\"data/split/\"+filename+\".csv\") </p>"
   ]
  },
  {
   "cell_type": "code",
   "execution_count": 5,
   "metadata": {},
   "outputs": [],
   "source": [
    "!mkdir data/split\n",
    "\n",
    "for filename, file in files.items():\n",
    "    file.to_csv(\"data/split/\"+filename+\".csv\")"
   ]
  },
  {
   "cell_type": "code",
   "execution_count": null,
   "metadata": {},
   "outputs": [],
   "source": []
  }
 ],
 "metadata": {
  "kernelspec": {
   "display_name": "Python 3",
   "language": "python",
   "name": "python3"
  },
  "language_info": {
   "codemirror_mode": {
    "name": "ipython",
    "version": 3
   },
   "file_extension": ".py",
   "mimetype": "text/x-python",
   "name": "python",
   "nbconvert_exporter": "python",
   "pygments_lexer": "ipython3",
   "version": "3.8.1"
  }
 },
 "nbformat": 4,
 "nbformat_minor": 2
}
